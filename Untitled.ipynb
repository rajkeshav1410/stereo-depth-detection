{
 "cells": [
  {
   "cell_type": "code",
   "execution_count": 9,
   "id": "cff1e7b4",
   "metadata": {},
   "outputs": [],
   "source": [
    "from Video import Video\n",
    "from threading import Thread\n",
    "import cv2\n",
    "import calibrate"
   ]
  },
  {
   "cell_type": "code",
   "execution_count": 12,
   "id": "3b523d88",
   "metadata": {},
   "outputs": [
    {
     "name": "stdout",
     "output_type": "stream",
     "text": [
      "Getting camera dimension\n",
      "Starting stearm...\n",
      "Video stream started\n"
     ]
    }
   ],
   "source": [
    "scale = 0.5\n",
    "stream = Video(scale=scale).start()\n",
    "# stream.close()"
   ]
  },
  {
   "cell_type": "code",
   "execution_count": 13,
   "id": "623ea4fa",
   "metadata": {},
   "outputs": [],
   "source": [
    "running = True\n"
   ]
  },
  {
   "cell_type": "code",
   "execution_count": 15,
   "id": "505b7c77",
   "metadata": {},
   "outputs": [],
   "source": [
    "def rectify():\n",
    "\tglobal imgLeft, imgRight, rectified_pair\n",
    "\twhile running:\n",
    "\t\timg_left, img_right = calibrate.generate_undistored_rectified_image(imgLeft, imgRight)\n",
    "\t\t# if stream.running:\n",
    "\t\t# \timg_left = cv2.bitwise_and(img_left, img_left, mask=maskLeft)\n",
    "\t\t# \timg_right = cv2.bitwise_and(img_right, img_right, mask=maskRight)\n",
    "\t\trectified_pair = (img_left, img_right)"
   ]
  },
  {
   "cell_type": "code",
   "execution_count": 10,
   "id": "8abedcf7",
   "metadata": {},
   "outputs": [
    {
     "name": "stdout",
     "output_type": "stream",
     "text": [
      "Starting rectification thread...\n",
      "Rectification thread running\n"
     ]
    },
    {
     "name": "stderr",
     "output_type": "stream",
     "text": [
      "Exception in thread Thread-7:\n",
      "Traceback (most recent call last):\n",
      "  File \"/usr/lib/python3.7/threading.py\", line 917, in _bootstrap_inner\n",
      "    self.run()\n",
      "  File \"/usr/lib/python3.7/threading.py\", line 865, in run\n",
      "    self._target(*self._args, **self._kwargs)\n",
      "  File \"/tmp/ipykernel_4676/4163470637.py\", line 4, in rectify\n",
      "    img_left, img_right = calibrate.generate_undistored_rectified_image(imgLeft, imgRight)\n",
      "NameError: name 'imgLeft' is not defined\n",
      "\n"
     ]
    }
   ],
   "source": [
    "rectify_t = Thread(target=rectify)\n",
    "print('Starting rectification thread...')\n",
    "rectify_t.start()\n",
    "print('Rectification thread running')"
   ]
  },
  {
   "cell_type": "code",
   "execution_count": 14,
   "id": "5d8ee31a",
   "metadata": {},
   "outputs": [
    {
     "ename": "NameError",
     "evalue": "name 'rectified_pair' is not defined",
     "output_type": "error",
     "traceback": [
      "\u001b[0;31m---------------------------------------------------------------------------\u001b[0m",
      "\u001b[0;31mNameError\u001b[0m                                 Traceback (most recent call last)",
      "\u001b[0;32m/tmp/ipykernel_4676/1681196739.py\u001b[0m in \u001b[0;36m<module>\u001b[0;34m\u001b[0m\n\u001b[1;32m      2\u001b[0m     \u001b[0mimgLeft\u001b[0m\u001b[0;34m,\u001b[0m \u001b[0mimgRight\u001b[0m \u001b[0;34m=\u001b[0m \u001b[0mstream\u001b[0m\u001b[0;34m.\u001b[0m\u001b[0mget_images\u001b[0m\u001b[0;34m(\u001b[0m\u001b[0;34m)\u001b[0m\u001b[0;34m\u001b[0m\u001b[0;34m\u001b[0m\u001b[0m\n\u001b[1;32m      3\u001b[0m     \u001b[0mcv2\u001b[0m\u001b[0;34m.\u001b[0m\u001b[0mimshow\u001b[0m\u001b[0;34m(\u001b[0m\u001b[0;34m'img1'\u001b[0m\u001b[0;34m,\u001b[0m \u001b[0mimgLeft\u001b[0m\u001b[0;34m)\u001b[0m\u001b[0;34m\u001b[0m\u001b[0;34m\u001b[0m\u001b[0m\n\u001b[0;32m----> 4\u001b[0;31m     \u001b[0mcv2\u001b[0m\u001b[0;34m.\u001b[0m\u001b[0mimshow\u001b[0m\u001b[0;34m(\u001b[0m\u001b[0;34m'img1R'\u001b[0m\u001b[0;34m,\u001b[0m \u001b[0mrectified_pair\u001b[0m\u001b[0;34m[\u001b[0m\u001b[0;36m0\u001b[0m\u001b[0;34m]\u001b[0m\u001b[0;34m)\u001b[0m\u001b[0;34m\u001b[0m\u001b[0;34m\u001b[0m\u001b[0m\n\u001b[0m\u001b[1;32m      5\u001b[0m     \u001b[0mkey\u001b[0m \u001b[0;34m=\u001b[0m \u001b[0mcv2\u001b[0m\u001b[0;34m.\u001b[0m\u001b[0mwaitKey\u001b[0m\u001b[0;34m(\u001b[0m\u001b[0;36m1\u001b[0m\u001b[0;34m)\u001b[0m\u001b[0;34m\u001b[0m\u001b[0;34m\u001b[0m\u001b[0m\n\u001b[1;32m      6\u001b[0m     \u001b[0;32mif\u001b[0m \u001b[0mkey\u001b[0m \u001b[0;34m==\u001b[0m \u001b[0mord\u001b[0m\u001b[0;34m(\u001b[0m\u001b[0;34m'q'\u001b[0m\u001b[0;34m)\u001b[0m\u001b[0;34m:\u001b[0m\u001b[0;34m\u001b[0m\u001b[0;34m\u001b[0m\u001b[0m\n",
      "\u001b[0;31mNameError\u001b[0m: name 'rectified_pair' is not defined"
     ]
    }
   ],
   "source": [
    "while True:\n",
    "    imgLeft, imgRight = stream.get_images()\n",
    "    cv2.imshow('img1', imgLeft)\n",
    "    cv2.imshow('img1R', rectified_pair[0])\n",
    "    key = cv2.waitKey(1)\n",
    "    if key == ord('q'):\n",
    "        break"
   ]
  },
  {
   "cell_type": "code",
   "execution_count": null,
   "id": "2fd9c36f",
   "metadata": {},
   "outputs": [],
   "source": []
  }
 ],
 "metadata": {
  "kernelspec": {
   "display_name": "Python 3 (ipykernel)",
   "language": "python",
   "name": "python3"
  },
  "language_info": {
   "codemirror_mode": {
    "name": "ipython",
    "version": 3
   },
   "file_extension": ".py",
   "mimetype": "text/x-python",
   "name": "python",
   "nbconvert_exporter": "python",
   "pygments_lexer": "ipython3",
   "version": "3.7.3"
  }
 },
 "nbformat": 4,
 "nbformat_minor": 5
}
