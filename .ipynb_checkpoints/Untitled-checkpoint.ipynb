{
 "cells": [
  {
   "cell_type": "code",
   "execution_count": 1,
   "id": "37c82aea",
   "metadata": {},
   "outputs": [],
   "source": [
    "from Video import Video\n",
    "import cv2"
   ]
  },
  {
   "cell_type": "code",
   "execution_count": 2,
   "id": "136d54bf",
   "metadata": {},
   "outputs": [
    {
     "name": "stdout",
     "output_type": "stream",
     "text": [
      "Getting camera dimension\n",
      "Starting stearm...\n",
      "Video stream started\n"
     ]
    }
   ],
   "source": [
    "scale = 0.5\n",
    "stream = Video(scale=scale).start()\n",
    "# stream.close()"
   ]
  },
  {
   "cell_type": "code",
   "execution_count": 3,
   "id": "f0b4246f",
   "metadata": {},
   "outputs": [],
   "source": [
    "# while True:\n",
    "imgLeft, imgRight = stream.get_images()\n",
    "cv2.imshow('img1', imgLeft)\n",
    "stream.close()\n",
    "# key = cv2.waitKey(1)\n",
    "#     if key == ord('q'):\n",
    "#         break"
   ]
  },
  {
   "cell_type": "code",
   "execution_count": null,
   "id": "cc15f12e",
   "metadata": {},
   "outputs": [],
   "source": []
  }
 ],
 "metadata": {
  "kernelspec": {
   "display_name": "Python 3 (ipykernel)",
   "language": "python",
   "name": "python3"
  },
  "language_info": {
   "codemirror_mode": {
    "name": "ipython",
    "version": 3
   },
   "file_extension": ".py",
   "mimetype": "text/x-python",
   "name": "python",
   "nbconvert_exporter": "python",
   "pygments_lexer": "ipython3",
   "version": "3.7.3"
  }
 },
 "nbformat": 4,
 "nbformat_minor": 5
}
